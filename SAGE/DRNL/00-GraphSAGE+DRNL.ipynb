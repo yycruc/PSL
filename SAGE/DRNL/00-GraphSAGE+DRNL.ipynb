{
 "cells": [
  {
   "cell_type": "code",
   "execution_count": 1,
   "id": "28ec9b9d",
   "metadata": {},
   "outputs": [],
   "source": [
    "import torch\n",
    "import torch_geometric\n",
    "\n",
    "train_data = torch.load('train_data.pt')\n",
    "val_data = torch.load('val_data.pt')\n",
    "test_data = torch.load('test_data.pt')"
   ]
  },
  {
   "cell_type": "code",
   "execution_count": 2,
   "id": "e96faf1e",
   "metadata": {},
   "outputs": [],
   "source": [
    "from sklearn.metrics import roc_auc_score, average_precision_score, recall_score\n",
    "from scipy.sparse.csgraph import shortest_path\n",
    "\n",
    "import torch.nn.functional as F\n",
    "from torch.nn import Conv1d, MaxPool1d, Linear, Dropout, BCEWithLogitsLoss, GRU\n",
    "\n",
    "from torch_geometric.datasets import Planetoid\n",
    "from torch_geometric.transforms import RandomLinkSplit\n",
    "from torch_geometric.loader import DataLoader\n",
    "from torch_geometric.nn import GCNConv, aggr, global_sort_pool\n",
    "from torch_geometric.utils import k_hop_subgraph, to_scipy_sparse_matrix"
   ]
  },
  {
   "cell_type": "code",
   "execution_count": 3,
   "id": "e80918fe",
   "metadata": {},
   "outputs": [],
   "source": [
    "from torch_geometric.data import Data\n",
    "import numpy as np\n",
    "def seal_processing(dataset, edge_label_index, y):\n",
    "    data_list = []\n",
    "    for src, dst in edge_label_index.t().tolist():\n",
    "        sub_nodes, sub_edge_index, mapping, _ = k_hop_subgraph([src, dst], 2, dataset.edge_index, relabel_nodes=True)\n",
    "        src, dst = mapping.tolist()\n",
    "\n",
    "        # Remove target link from the subgraph\n",
    "        mask1 = (sub_edge_index[0] != src) | (sub_edge_index[1] != dst)\n",
    "        mask2 = (sub_edge_index[0] != dst) | (sub_edge_index[1] != src)\n",
    "        sub_edge_index = sub_edge_index[:, mask1 & mask2]\n",
    "\n",
    "        # Double-radius node labeling (DRNL)\n",
    "        src, dst = (dst, src) if src > dst else (src, dst)\n",
    "        adj = to_scipy_sparse_matrix(sub_edge_index, num_nodes=sub_nodes.size(0)).tocsr()\n",
    "\n",
    "        idx = list(range(src)) + list(range(src + 1, adj.shape[0]))\n",
    "        adj_wo_src = adj[idx, :][:, idx]\n",
    "\n",
    "        idx = list(range(dst)) + list(range(dst + 1, adj.shape[0]))\n",
    "        adj_wo_dst = adj[idx, :][:, idx]\n",
    "\n",
    "        # Calculate the distance between every node and the source target node\n",
    "        d_src = shortest_path(adj_wo_dst, directed=False, unweighted=True, indices=src)\n",
    "        d_src = np.insert(d_src, dst, 0, axis=0)\n",
    "        d_src = torch.from_numpy(d_src)\n",
    "\n",
    "        # Calculate the distance between every node and the destination target node\n",
    "        d_dst = shortest_path(adj_wo_src, directed=False, unweighted=True, indices=dst-1)\n",
    "        d_dst = np.insert(d_dst, src, 0, axis=0)\n",
    "        d_dst = torch.from_numpy(d_dst)\n",
    "\n",
    "        # Calculate the label z for each node\n",
    "        dist = d_src + d_dst\n",
    "        z = 1 + torch.min(d_src, d_dst) + dist // 2 * (dist // 2 + dist % 2 - 1)\n",
    "        z[src], z[dst], z[torch.isnan(z)] = 1., 1., 0.\n",
    "        z = z.to(torch.long)\n",
    "\n",
    "        # Concatenate node features and one-hot encoded node labels (with a fixed number of classes)\n",
    "        node_labels = F.one_hot(z, num_classes=200).to(torch.float)\n",
    "        node_emb = dataset.x[sub_nodes]\n",
    "        node_x = torch.cat([node_emb, node_labels], dim=1)\n",
    "\n",
    "        # Create data object\n",
    "        data = Data(x=node_x, z=z, edge_index=sub_edge_index, y=y)\n",
    "        data_list.append(data)\n",
    "\n",
    "    return data_list"
   ]
  },
  {
   "cell_type": "code",
   "execution_count": 4,
   "id": "47cf531b",
   "metadata": {},
   "outputs": [],
   "source": [
    "# Enclosing subgraphs extraction\n",
    "train_pos_data_list = seal_processing(train_data, train_data.pos_edge_label_index, 1)\n",
    "train_neg_data_list = seal_processing(train_data, train_data.neg_edge_label_index, 0)"
   ]
  },
  {
   "cell_type": "code",
   "execution_count": 5,
   "id": "399be37b",
   "metadata": {},
   "outputs": [],
   "source": [
    "val_pos_data_list = seal_processing(val_data, val_data.pos_edge_label_index, 1)\n",
    "val_neg_data_list = seal_processing(val_data, val_data.neg_edge_label_index, 0)"
   ]
  },
  {
   "cell_type": "code",
   "execution_count": 6,
   "id": "90731ab2",
   "metadata": {},
   "outputs": [],
   "source": [
    "test_pos_data_list = seal_processing(test_data, test_data.pos_edge_label_index, 1)\n",
    "test_neg_data_list = seal_processing(test_data, test_data.neg_edge_label_index, 0)"
   ]
  },
  {
   "cell_type": "code",
   "execution_count": 7,
   "id": "4d337ff6",
   "metadata": {},
   "outputs": [],
   "source": [
    "train_dataset = train_pos_data_list + train_neg_data_list\n",
    "val_dataset = val_pos_data_list + val_neg_data_list\n",
    "test_dataset = test_pos_data_list + test_neg_data_list\n",
    "\n",
    "train_loader = DataLoader(train_dataset, batch_size=32, shuffle=True)\n",
    "val_loader = DataLoader(val_dataset, batch_size=32, shuffle=True)\n",
    "test_loader = DataLoader(test_dataset, batch_size=32, shuffle=True)"
   ]
  },
  {
   "cell_type": "code",
   "execution_count": 8,
   "id": "e5d3b84b-418e-44e9-978d-4d84bb2c0fc0",
   "metadata": {},
   "outputs": [],
   "source": [
    "import torch\n",
    "import torch.nn.functional as F\n",
    "from torch_geometric.nn import SAGEConv\n",
    "class GraphSAGE(torch.nn.Module):\n",
    "    def __init__(self, dim_in):\n",
    "        super(GraphSAGE, self).__init__()\n",
    "        # GCN layers\n",
    "        self.gcn1 = SAGEConv(dim_in, 32)\n",
    "        self.gcn2 = SAGEConv(32, 32)\n",
    "        self.gcn3 = SAGEConv(32, 32)\n",
    "        self.gcn4 = SAGEConv(32, 1)\n",
    "\n",
    "        self.lin1 = Linear(97, dim_in)\n",
    "        self.lin2 = Linear(dim_in, 1)\n",
    "\n",
    "    def forward(self, x, edge_index, batch):\n",
    "        x1 = self.gcn1(x, edge_index).tanh()\n",
    "        x2 = self.gcn2(x1, edge_index).tanh()\n",
    "        x3 = self.gcn3(x2, edge_index).tanh()\n",
    "        x4 = self.gcn4(x3, edge_index).tanh()\n",
    "        x = torch.cat([x1, x2, x3, x4], dim=-1)\n",
    "\n",
    "        _, center_indices = np.unique(batch.cpu().numpy(), return_index=True)\n",
    "        x_src = x[center_indices]\n",
    "        x_dst = x[center_indices + 1]\n",
    "        x = (x_src * x_dst)\n",
    "        x = F.relu(self.lin1(x))\n",
    "        x = self.lin2(x)\n",
    "\n",
    "        return x"
   ]
  },
  {
   "cell_type": "code",
   "execution_count": 9,
   "id": "705d5ef0-fa90-4f11-b5a4-fc9597f84ac8",
   "metadata": {},
   "outputs": [],
   "source": [
    "device = torch.device('cuda' if torch.cuda.is_available() else 'cpu')\n",
    "model = GraphSAGE(train_dataset[0].num_features).to(device)\n",
    "optimizer = torch.optim.Adam(params=model.parameters(), lr=0.001)\n",
    "criterion = BCEWithLogitsLoss()"
   ]
  },
  {
   "cell_type": "code",
   "execution_count": 10,
   "id": "798ab952",
   "metadata": {},
   "outputs": [],
   "source": [
    "from sklearn.metrics import accuracy_score, precision_score, recall_score, f1_score, roc_auc_score\n",
    "\n",
    "def train():\n",
    "    model.train()\n",
    "    total_loss = 0\n",
    "\n",
    "    for data in train_loader:\n",
    "        data = data.to(device)\n",
    "        optimizer.zero_grad()\n",
    "        out = model(data.x, data.edge_index, data.batch)\n",
    "        loss = criterion(out.view(-1), data.y.to(torch.float))\n",
    "        loss.backward()\n",
    "        optimizer.step()\n",
    "        total_loss += float(loss) * data.num_graphs\n",
    "\n",
    "    return total_loss / len(train_dataset)\n",
    "\n",
    "@torch.no_grad()\n",
    "def test(loader):\n",
    "    model.eval()\n",
    "    y_pred, y_true = [], []\n",
    "\n",
    "    for data in loader:\n",
    "        data = data.to(device)\n",
    "        out = model(data.x, data.edge_index, data.batch)\n",
    "        y_pred.append(out.view(-1).cpu())\n",
    "        y_true.append(data.y.view(-1).cpu().to(torch.float))\n",
    "\n",
    "    y_pred_binary = (torch.cat(y_pred) > 0.5).numpy()\n",
    "    y_true_array = torch.cat(y_true).numpy()\n",
    "\n",
    "    auc = roc_auc_score(y_true_array, torch.cat(y_pred))\n",
    "    accuracy = accuracy_score(y_true_array, y_pred_binary)\n",
    "    f1 = f1_score(y_true_array, y_pred_binary)\n",
    "    precision = precision_score(y_true_array, y_pred_binary)\n",
    "    recall = recall_score(y_true_array, y_pred_binary)\n",
    "\n",
    "    return auc, accuracy, f1, precision, recall\n",
    "    "
   ]
  },
  {
   "cell_type": "code",
   "execution_count": 11,
   "id": "a8b665e0",
   "metadata": {},
   "outputs": [
    {
     "name": "stdout",
     "output_type": "stream",
     "text": [
      "Epoch  0 | Loss: 0.3127 | Val AUC: 0.7612 \n",
      "Epoch  1 | Loss: 0.2685 | Val AUC: 0.7770 \n",
      "Epoch  2 | Loss: 0.2582 | Val AUC: 0.7883 \n",
      "Epoch  3 | Loss: 0.2495 | Val AUC: 0.8039 \n",
      "Epoch  4 | Loss: 0.2419 | Val AUC: 0.8129 \n",
      "Epoch  5 | Loss: 0.2361 | Val AUC: 0.8185 \n",
      "Epoch  6 | Loss: 0.2294 | Val AUC: 0.8196 \n",
      "Epoch  7 | Loss: 0.2253 | Val AUC: 0.8284 \n",
      "Epoch  8 | Loss: 0.2200 | Val AUC: 0.8182 \n",
      "Epoch  9 | Loss: 0.2150 | Val AUC: 0.8234 \n",
      "Test AUC: 0.7905 | Test Accuracy: 0.7224 | Test F1: 0.7073 | Test Precision: 0.7480 | Test Recall: 0.6708\n"
     ]
    }
   ],
   "source": [
    "import matplotlib.pyplot as plt\n",
    "train_loss = []\n",
    "for epoch in range(10):\n",
    "    loss = train()\n",
    "    val_results = test(val_loader)\n",
    "    val_auc, val_accuracy, val_f1, val_precision, val_recall = val_results\n",
    "    print(f'Epoch {epoch:>2} | Loss: {loss:.4f} | Val AUC: {val_auc:.4f} ')\n",
    "    train_loss.append(loss)\n",
    "\n",
    "test_results = test(test_loader)\n",
    "test_auc, test_accuracy, test_f1, test_precision, test_recall = test_results \n",
    "print(f'Test AUC: {test_auc:.4f} | Test Accuracy: {test_accuracy:.4f} | Test F1: {test_f1:.4f} | Test Precision: {test_precision:.4f} | Test Recall: {test_recall:.4f}')"
   ]
  },
  {
   "cell_type": "code",
   "execution_count": null,
   "id": "f9171997",
   "metadata": {},
   "outputs": [],
   "source": []
  },
  {
   "cell_type": "code",
   "execution_count": null,
   "id": "6ece6569",
   "metadata": {},
   "outputs": [],
   "source": []
  }
 ],
 "metadata": {
  "kernelspec": {
   "display_name": "python3.8",
   "language": "python",
   "name": "py38"
  },
  "language_info": {
   "codemirror_mode": {
    "name": "ipython",
    "version": 3
   },
   "file_extension": ".py",
   "mimetype": "text/x-python",
   "name": "python",
   "nbconvert_exporter": "python",
   "pygments_lexer": "ipython3",
   "version": "3.8.19"
  }
 },
 "nbformat": 4,
 "nbformat_minor": 5
}
